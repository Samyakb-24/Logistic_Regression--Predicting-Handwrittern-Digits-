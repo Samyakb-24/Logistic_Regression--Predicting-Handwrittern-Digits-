{
 "cells": [
  {
   "cell_type": "code",
   "execution_count": 1,
   "metadata": {},
   "outputs": [],
   "source": [
    "import sklearn \n",
    "from sklearn.datasets import load_digits\n",
    "from sklearn.model_selection import train_test_split\n",
    "import numpy as np\n",
    "import matplotlib.pyplot as plt\n",
    "import seaborn as sb\n",
    "from sklearn import metrics"
   ]
  },
  {
   "cell_type": "code",
   "execution_count": 2,
   "metadata": {},
   "outputs": [],
   "source": [
    "digits = load_digits()"
   ]
  },
  {
   "cell_type": "code",
   "execution_count": 10,
   "metadata": {},
   "outputs": [
    {
     "name": "stdout",
     "output_type": "stream",
     "text": [
      "Image data shape : (1797, 64)\n"
     ]
    }
   ],
   "source": [
    "print(\"Image data shape :\", digits.data.shape)"
   ]
  },
  {
   "cell_type": "code",
   "execution_count": 12,
   "metadata": {},
   "outputs": [
    {
     "name": "stdout",
     "output_type": "stream",
     "text": [
      "Label data shape : (1797,)\n"
     ]
    }
   ],
   "source": [
    "print(\"Label data shape :\", digits.target.shape)"
   ]
  },
  {
   "cell_type": "code",
   "execution_count": 44,
   "metadata": {},
   "outputs": [
    {
     "data": {
      "image/png": "[encoded data removed]",
      "text/plain": [
       "<Figure size 1440x288 with 5 Axes>"
      ]
     },
     "metadata": {
      "needs_background": "light"
     },
     "output_type": "display_data"
    }
   ],
   "source": [
    "plt.figure(figsize =(20,4))\n",
    "for index, (image, label) in enumerate(zip(digits.data[0:5], digits.target[0:5])):\n",
    "    plt.subplot(1,5, index+1)\n",
    "    plt.imshow(np.reshape(image, (8,8)), cmap = plt.cm.gray)\n",
    "    plt.title('Training: %i\\n' % label, fontsize = 20)"
   ]
  },
  {
   "cell_type": "code",
   "execution_count": 45,
   "metadata": {},
   "outputs": [],
   "source": [
    "X_train, X_test, y_train, y_test = train_test_split(digits.data, digits.target, test_size = 0.25)"
   ]
  },
  {
   "cell_type": "code",
   "execution_count": 47,
   "metadata": {},
   "outputs": [
    {
     "name": "stdout",
     "output_type": "stream",
     "text": [
      "(1347, 64)\n"
     ]
    }
   ],
   "source": [
    "print(X_train.shape)"
   ]
  },
  {
   "cell_type": "code",
   "execution_count": 48,
   "metadata": {},
   "outputs": [
    {
     "name": "stdout",
     "output_type": "stream",
     "text": [
      "(450, 64)\n"
     ]
    }
   ],
   "source": [
    "print(X_test.shape)"
   ]
  },
  {
   "cell_type": "code",
   "execution_count": 49,
   "metadata": {},
   "outputs": [
    {
     "name": "stdout",
     "output_type": "stream",
     "text": [
      "(1347,)\n"
     ]
    }
   ],
   "source": [
    "print(y_train.shape)"
   ]
  },
  {
   "cell_type": "code",
   "execution_count": 50,
   "metadata": {},
   "outputs": [
    {
     "name": "stdout",
     "output_type": "stream",
     "text": [
      "(450,)\n"
     ]
    }
   ],
   "source": [
    "print(y_test.shape)"
   ]
  },
  {
   "cell_type": "code",
   "execution_count": 53,
   "metadata": {},
   "outputs": [],
   "source": [
    "from sklearn.linear_model import LogisticRegression"
   ]
  },
  {
   "cell_type": "code",
   "execution_count": 54,
   "metadata": {},
   "outputs": [],
   "source": [
    "logistic_reg = LogisticRegression()"
   ]
  },
  {
   "cell_type": "code",
   "execution_count": 56,
   "metadata": {},
   "outputs": [
    {
     "name": "stderr",
     "output_type": "stream",
     "text": [
      "D:\\Anaconda\\lib\\site-packages\\sklearn\\linear_model\\_logistic.py:762: ConvergenceWarning: lbfgs failed to converge (status=1):\n",
      "STOP: TOTAL NO. of ITERATIONS REACHED LIMIT.\n",
      "\n",
      "Increase the number of iterations (max_iter) or scale the data as shown in:\n",
      "    https://scikit-learn.org/stable/modules/preprocessing.html\n",
      "Please also refer to the documentation for alternative solver options:\n",
      "    https://scikit-learn.org/stable/modules/linear_model.html#logistic-regression\n",
      "  n_iter_i = _check_optimize_result(\n"
     ]
    },
    {
     "data": {
      "text/plain": [
       "LogisticRegression()"
      ]
     },
     "execution_count": 56,
     "metadata": {},
     "output_type": "execute_result"
    }
   ],
   "source": [
    "logistic_reg.fit(X_train, y_train)"
   ]
  },
  {
   "cell_type": "code",
   "execution_count": 58,
   "metadata": {},
   "outputs": [
    {
     "name": "stdout",
     "output_type": "stream",
     "text": [
      "[5]\n"
     ]
    }
   ],
   "source": [
    "print(logistic_reg.predict(X_test[0].reshape(1,-1)))"
   ]
  },
  {
   "cell_type": "code",
   "execution_count": 64,
   "metadata": {},
   "outputs": [
    {
     "data": {
      "text/plain": [
       "array([5, 5, 4, 7, 3, 9, 4, 0, 2, 0, 4, 6, 5, 1, 2, 9, 5, 4, 2, 1, 0, 5,\n",
       "       2, 6, 9, 1, 2, 3, 7, 8, 7, 4, 1, 2, 8, 6, 7, 6, 7, 2, 1, 0, 8, 1,\n",
       "       0, 2, 4, 5, 0, 2, 6, 9, 9, 0, 0, 2, 8, 1, 5, 0, 3, 7, 6, 6, 6, 7,\n",
       "       6, 3, 5, 0, 3, 4, 4, 5, 3, 3, 5, 9, 7, 4, 5, 4, 0, 9, 7, 9, 4, 4,\n",
       "       0, 3, 7, 7, 6, 1, 2, 2, 5, 2, 4, 2, 8, 6, 4, 2, 2, 6, 6, 0, 0, 5,\n",
       "       2, 9, 5, 7, 9, 1, 9, 8, 0, 7, 2, 4, 6, 0, 2, 8, 7, 1, 6, 3, 1, 8,\n",
       "       8, 1, 7, 5, 3, 0, 0, 9, 9, 3, 4, 9, 2, 2, 0, 2, 1, 1, 3, 2, 9, 9,\n",
       "       6, 5, 4, 7, 2, 9, 6, 2, 9, 2, 3, 0, 5, 8, 3, 3, 0, 3, 8, 3, 1, 7,\n",
       "       5, 3, 3, 5, 0, 5, 5, 9, 6, 5, 9, 0, 1, 8, 8, 8, 1, 6, 4, 3, 3, 8,\n",
       "       2, 2, 3, 9, 0, 6, 8, 9, 7, 1, 4, 2, 5, 1, 3, 3, 3, 6, 1, 6, 1, 1,\n",
       "       1, 5, 5, 2, 9, 0, 6, 0, 6, 8, 4, 1, 5, 2, 9, 7, 8, 7, 5, 4, 3, 5,\n",
       "       2, 8, 0, 1, 7, 3, 8, 4, 1, 9, 5, 8, 1, 4, 7, 5, 1, 1, 1, 2, 4, 0,\n",
       "       9, 0, 7, 5, 7, 8, 2, 3, 4, 7, 9, 2, 4, 8, 6, 3, 0, 5, 5, 1, 7, 1,\n",
       "       0, 9, 2, 6, 3, 9, 8, 5, 0, 2, 8, 4, 4, 6, 8, 1, 5, 7, 5, 5, 6, 0,\n",
       "       6, 2, 2, 6, 9, 3, 4, 2, 5, 5, 3, 9, 0, 9, 6, 7, 4, 3, 6, 6, 4, 2,\n",
       "       6, 9, 3, 0, 4, 1, 9, 4, 9, 5, 8, 7, 2, 1, 7, 7, 7, 4, 8, 3, 2, 7,\n",
       "       3, 3, 5, 5, 1, 1, 1, 4, 3, 0, 4, 3, 7, 5, 3, 0, 5, 8, 5, 6, 1, 6,\n",
       "       1, 0, 3, 8, 8, 0, 3, 8, 6, 1, 7, 1, 1, 4, 0, 6, 6, 2, 3, 5, 9, 5,\n",
       "       3, 5, 4, 9, 1, 5, 6, 8, 6, 4, 0, 3, 6, 0, 5, 6, 9, 4, 4, 8, 1, 4,\n",
       "       7, 7, 8, 6, 5, 3, 8, 6, 2, 2, 6, 3, 6, 8, 5, 4, 3, 0, 2, 3, 7, 0,\n",
       "       2, 0, 5, 8, 4, 2, 9, 2, 9, 1])"
      ]
     },
     "execution_count": 64,
     "metadata": {},
     "output_type": "execute_result"
    }
   ],
   "source": [
    "predictions = logistic_reg.predict(X_test)\n",
    "predictions"
   ]
  },
  {
   "cell_type": "code",
   "execution_count": 69,
   "metadata": {},
   "outputs": [
    {
     "data": {
      "text/plain": [
       "97.33333333333334"
      ]
     },
     "execution_count": 69,
     "metadata": {},
     "output_type": "execute_result"
    }
   ],
   "source": [
    "from sklearn.metrics import accuracy_score\n",
    "score = accuracy_score(y_test, predictions)\n",
    "score*100"
   ]
  },
  {
   "cell_type": "code",
   "execution_count": 70,
   "metadata": {},
   "outputs": [
    {
     "name": "stdout",
     "output_type": "stream",
     "text": [
      "[[45  0  0  0  1  0  3  0  0  0]\n",
      " [ 0 44  0  0  0  0  0  0  1  1]\n",
      " [ 0  0 50  0  0  0  0  0  0  0]\n",
      " [ 0  0  0 48  0  0  0  0  0  0]\n",
      " [ 0  1  0  0 42  0  1  0  0  0]\n",
      " [ 0  0  0  1  0 53  0  0  0  0]\n",
      " [ 0  1  0  0  0  0 43  0  0  0]\n",
      " [ 0  0  0  0  1  0  0 38  0  0]\n",
      " [ 0  0  0  0  0  0  0  0 36  0]\n",
      " [ 0  0  0  0  0  0  0  0  1 39]]\n"
     ]
    }
   ],
   "source": [
    "cm = metrics.confusion_matrix(y_test, predictions)\n",
    "print(cm)"
   ]
  },
  {
   "cell_type": "code",
   "execution_count": 73,
   "metadata": {},
   "outputs": [
    {
     "data": {
      "image/png": "[encoded data removed]",
      "text/plain": [
       "<Figure size 648x648 with 2 Axes>"
      ]
     },
     "metadata": {
      "needs_background": "light"
     },
     "output_type": "display_data"
    }
   ],
   "source": [
    "plt.figure(figsize=(9,9))\n",
    "sb.heatmap(cm, annot = True, fmt=\".3f\", linewidths = .5, square = True, cmap = 'Blues_r');\n",
    "plt.ylabel('Actual Label');\n",
    "plt.xlabel('Predicted Label');\n",
    "all_sample_title = 'Accuracy Score: {0}'.format(score)\n",
    "plt.title(all_sample_title, size = 15);"
   ]
  },
  {
   "cell_type": "code",
   "execution_count": 78,
   "metadata": {},
   "outputs": [
    {
     "data": {
      "image/png": "[encoded data removed]",
      "text/plain": [
       "<Figure size 1440x216 with 4 Axes>"
      ]
     },
     "metadata": {
      "needs_background": "light"
     },
     "output_type": "display_data"
    }
   ],
   "source": [
    "index = 0\n",
    "classifiedIndex = []\n",
    "for predict, actual in zip(predictions, y_test):\n",
    "    if predict == actual:\n",
    "        classifiedIndex.append(index)\n",
    "    index += 1\n",
    "plt.figure(figsize=(20,3))\n",
    "for plotIndex, wrong in enumerate(classifiedIndex[0:4]):\n",
    "    plt.subplot(1,4, plotIndex+1)\n",
    "    plt.imshow(np.reshape(X_test[wrong],(8,8)), cmap = plt.cm.gray)\n",
    "    plt.title(\"predicted:{} actual: {}\" .format(predictions[wrong], y_test[wrong]), fontsize = 20)"
   ]
  },
  {
   "cell_type": "code",
   "execution_count": null,
   "metadata": {},
   "outputs": [],
   "source": []
  }
 ],
 "metadata": {
  "kernelspec": {
   "display_name": "Python 3",
   "language": "python",
   "name": "python3"
  },
  "language_info": {
   "codemirror_mode": {
    "name": "ipython",
    "version": 3
   },
   "file_extension": ".py",
   "mimetype": "text/x-python",
   "name": "python",
   "nbconvert_exporter": "python",
   "pygments_lexer": "ipython3",
   "version": "3.8.3"
  }
 },
 "nbformat": 4,
 "nbformat_minor": 4
}
